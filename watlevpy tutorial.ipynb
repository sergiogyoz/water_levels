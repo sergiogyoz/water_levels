{
 "cells": [
  {
   "cell_type": "markdown",
   "id": "7f41f24f",
   "metadata": {},
   "source": [
    "<h1>watlevpy Tutorial</h1>\n",
    "\n",
    "<p>The basic object that is used by all the other clases is the <b>TS</b> class/object.</p>"
   ]
  },
  {
   "cell_type": "markdown",
   "id": "e2b0ff28",
   "metadata": {},
   "source": [
    "<h2>Importing watlevpy</h2>\n",
    "<p>I haven't made my package like an actual python package. So as for now, you need to get the github project and create your python files in the same directory where this file is located.</p>"
   ]
  },
  {
   "cell_type": "markdown",
   "id": "0898844c",
   "metadata": {},
   "source": [
    "<h2>TS class</h2>\n",
    "<p>A TS object is a time series custom class that contains some basic metadata. To create a TS object one needs:</p>\n",
    "<ul>\n",
    "    <li>An array of the dates of the time series</li>\n",
    "    <li>An array of corresponding values</li>\n",
    "    <li>units</li>\n",
    "    <li>The frequency of the data</li>\n",
    "    <li>(optional) custom time delta for the frequency</li>\n",
    "</ul>"
   ]
  },
  {
   "cell_type": "markdown",
   "id": "0dd0307d",
   "metadata": {},
   "source": [
    "<h3>Dates</h3>\n",
    "<p>All of the dates used should be given using the standard datetime library</p>"
   ]
  },
  {
   "cell_type": "code",
   "execution_count": 3,
   "id": "5738e0f3",
   "metadata": {},
   "outputs": [
    {
     "name": "stdout",
     "output_type": "stream",
     "text": [
      "1959-03-05\n"
     ]
    }
   ],
   "source": [
    "import datetime\n",
    "\n",
    "someday=datetime.date(year=1959,month=3,day=5); # 5 of march of 1959\n",
    "print(someday);"
   ]
  },
  {
   "cell_type": "markdown",
   "id": "483f5730",
   "metadata": {},
   "source": [
    "<p>So an array of dates looks like:</p>"
   ]
  },
  {
   "cell_type": "code",
   "execution_count": 5,
   "id": "bf5b5f7d",
   "metadata": {},
   "outputs": [
    {
     "name": "stdout",
     "output_type": "stream",
     "text": [
      "[datetime.date(1959, 1, 1), datetime.date(1959, 1, 2), datetime.date(1959, 1, 3), datetime.date(1959, 1, 4), datetime.date(1959, 1, 5), datetime.date(1959, 1, 6), datetime.date(1959, 1, 7)]\n"
     ]
    }
   ],
   "source": [
    "someweek=[];\n",
    "for day in range(1,7+1):\n",
    "    someweek.append(datetime.date(1959,1,day)); #first week of January of 1959\n",
    "\n",
    "print(someweek);"
   ]
  },
  {
   "cell_type": "markdown",
   "id": "0e891b07",
   "metadata": {},
   "source": [
    "<h3>units and frequency</h3>\n",
    "<p>Units can be any string, sor for example \"ft\" or \"kg\". The frequency can only be one of \"daily\",\"weekly\",\"30monthly\",\"365yearly\",\"monthly\",\"yearly\",\"custom\". </p>"
   ]
  },
  {
   "cell_type": "code",
   "execution_count": null,
   "id": "8b8b9b79",
   "metadata": {},
   "outputs": [],
   "source": []
  }
 ],
 "metadata": {
  "kernelspec": {
   "display_name": "Python 3",
   "language": "python",
   "name": "python3"
  },
  "language_info": {
   "codemirror_mode": {
    "name": "ipython",
    "version": 3
   },
   "file_extension": ".py",
   "mimetype": "text/x-python",
   "name": "python",
   "nbconvert_exporter": "python",
   "pygments_lexer": "ipython3",
   "version": "3.8.10"
  }
 },
 "nbformat": 4,
 "nbformat_minor": 5
}
